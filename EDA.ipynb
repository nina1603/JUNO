{
 "cells": [
  {
   "cell_type": "code",
   "execution_count": 1,
   "metadata": {},
   "outputs": [],
   "source": [
    "import numpy as np\n",
    "import pandas as pd\n",
    "from mpl_toolkits.mplot3d import Axes3D\n",
    "import matplotlib.pyplot as plt\n",
    "from random import shuffle\n",
    "from IPython.display import clear_output\n",
    "from sklearn import metrics\n",
    "import time\n",
    "import seaborn as sns\n",
    "from tqdm import tqdm\n",
    "%matplotlib inline"
   ]
  },
  {
   "cell_type": "code",
   "execution_count": 2,
   "metadata": {},
   "outputs": [],
   "source": [
    "BINDER = True"
   ]
  },
  {
   "cell_type": "code",
   "execution_count": 3,
   "metadata": {},
   "outputs": [],
   "source": [
    "from tqdm import tqdm_notebook"
   ]
  },
  {
   "cell_type": "code",
   "execution_count": 4,
   "metadata": {},
   "outputs": [
    {
     "name": "stdout",
     "output_type": "stream",
     "text": [
      "CPU times: user 633 ms, sys: 243 ms, total: 876 ms\n",
      "Wall time: 977 ms\n"
     ]
    }
   ],
   "source": [
    "%%time\n",
    "import wget \n",
    "#wget.download('https://drive.google.com/a/phystech.edu/uc?id=1nBEBW_Yzm7WESYinyyF2OecbxiPKhMyT&export=download')\n",
    "#!unzip data.zip\n",
    "lpmt_hits = pd.read_csv('train_lpmt_hits.csv')\n",
    "lpmt_n_hits = pd.read_csv('train_lpmt_n_hits.csv')\n",
    "spmt_hits = pd.read_csv('train_spmt_hits.csv')\n",
    "spmt_n_hits = pd.read_csv('train_spmt_n_hits.csv')\n",
    "spmt_pos = pd.read_csv('spmt_pos.csv')\n",
    "lpmt_pos = pd.read_csv('lpmt_pos.csv')\n",
    "info = pd.read_csv('train_info.csv')"
   ]
  },
  {
   "cell_type": "markdown",
   "metadata": {},
   "source": [
    "#### Large detectors, hits"
   ]
  },
  {
   "cell_type": "code",
   "execution_count": 5,
   "metadata": {},
   "outputs": [
    {
     "name": "stdout",
     "output_type": "stream",
     "text": [
      "   Unnamed: 0  event     hitTime   isDN  pmtID\n",
      "0           0      0  249.992610  False  14175\n",
      "1           1      0   40.010310  False  17319\n",
      "2           2      0  162.123200  False  16882\n",
      "3           3      0   51.875614  False  14951\n",
      "4           4      0   79.817500  False  10947\n",
      "(652568, 5)\n"
     ]
    }
   ],
   "source": [
    "print(lpmt_hits.head())\n",
    "print(lpmt_hits.shape)"
   ]
  },
  {
   "cell_type": "markdown",
   "metadata": {},
   "source": [
    "#### Small detectors, hits"
   ]
  },
  {
   "cell_type": "code",
   "execution_count": 6,
   "metadata": {},
   "outputs": [
    {
     "name": "stdout",
     "output_type": "stream",
     "text": [
      "   Unnamed: 0  event     hitTime   isDN   pmtID\n",
      "0           0      0  238.278090  False  311819\n",
      "1           1      0  103.316055  False  307244\n",
      "2           2      0  108.034225  False  323230\n",
      "3           3      0   36.505154  False  320568\n",
      "4           4      0   34.109840  False  316487\n",
      "(234388, 5)\n"
     ]
    }
   ],
   "source": [
    "print(spmt_hits.head())\n",
    "print(spmt_hits.shape)"
   ]
  },
  {
   "cell_type": "markdown",
   "metadata": {},
   "source": [
    "#### Small detectors, number of hits in event"
   ]
  },
  {
   "cell_type": "code",
   "execution_count": 7,
   "metadata": {},
   "outputs": [
    {
     "name": "stdout",
     "output_type": "stream",
     "text": [
      "   event_id  nHits\n",
      "0         0    212\n",
      "1         1    191\n",
      "2         3    162\n",
      "3         4    180\n",
      "4         5    310\n",
      "(10000, 2)\n"
     ]
    }
   ],
   "source": [
    "print(spmt_n_hits.head())\n",
    "print(spmt_n_hits.shape)"
   ]
  },
  {
   "cell_type": "markdown",
   "metadata": {},
   "source": [
    "#### Large detectors, number of hits in event"
   ]
  },
  {
   "cell_type": "code",
   "execution_count": 8,
   "metadata": {},
   "outputs": [
    {
     "name": "stdout",
     "output_type": "stream",
     "text": [
      "   event_id  nHits\n",
      "0         0   8902\n",
      "1         1   7305\n",
      "2         3   6718\n",
      "3         4   5966\n",
      "4         5  12744\n",
      "(10000, 2)\n"
     ]
    }
   ],
   "source": [
    "print(lpmt_n_hits.head())\n",
    "print(lpmt_n_hits.shape)"
   ]
  },
  {
   "cell_type": "markdown",
   "metadata": {},
   "source": [
    "#### Predictable events"
   ]
  },
  {
   "cell_type": "code",
   "execution_count": 9,
   "metadata": {},
   "outputs": [
    {
     "name": "stdout",
     "output_type": "stream",
     "text": [
      "          E          R  evtID           x           y            z\n",
      "0  4.747791  14610.378      0   8290.7790  11995.6180    911.74286\n",
      "1  3.919721  14630.141      1  11397.6320   5407.4497  -7409.08200\n",
      "2  3.765940  16820.080      3  -2377.9307 -16317.7020   3315.59030\n",
      "3  3.217473  13026.938      4  -8617.1170    868.5116   9730.98600\n",
      "4  7.360527  15190.775      5   4050.2210   9521.7620  11121.66500\n",
      "(10000, 6)\n"
     ]
    }
   ],
   "source": [
    "print(info.head())\n",
    "print(info.shape)"
   ]
  },
  {
   "cell_type": "markdown",
   "metadata": {},
   "source": [
    "#### Position of small detectors"
   ]
  },
  {
   "cell_type": "code",
   "execution_count": 10,
   "metadata": {},
   "outputs": [
    {
     "name": "stdout",
     "output_type": "stream",
     "text": [
      "   pmt_id         pmt_x       pmt_y      pmt_z\n",
      "0  300000  1.384810e+03   244.17944  19148.438\n",
      "1  300001  1.217782e+03   703.08670  19148.438\n",
      "2  300002  9.038709e+02  1077.19130  19148.438\n",
      "3  300003  4.809396e+02  1321.37070  19148.438\n",
      "4  300004  8.610328e-14  1406.17330  19148.438\n",
      "(24952, 4)\n"
     ]
    }
   ],
   "source": [
    "print(spmt_pos.head())\n",
    "print(spmt_pos.shape)"
   ]
  },
  {
   "cell_type": "markdown",
   "metadata": {},
   "source": [
    "#### Position of large detectors"
   ]
  },
  {
   "cell_type": "code",
   "execution_count": 11,
   "metadata": {},
   "outputs": [
    {
     "name": "stdout",
     "output_type": "stream",
     "text": [
      "   pmt_id         pmt_x      pmt_y     pmt_z\n",
      "0       0  1.049021e+03     0.0000  19171.32\n",
      "1       1  9.084785e+02   524.5103  19171.32\n",
      "2       2  5.245103e+02   908.4785  19171.32\n",
      "3       3  6.423399e-14  1049.0206  19171.32\n",
      "4       4 -5.245103e+02   908.4785  19171.32\n",
      "(17739, 4)\n"
     ]
    }
   ],
   "source": [
    "print(lpmt_pos.head())\n",
    "print(lpmt_pos.shape)"
   ]
  },
  {
   "cell_type": "code",
   "execution_count": 12,
   "metadata": {},
   "outputs": [],
   "source": [
    "event_id = 10000\n",
    "lpmt_event_hits = lpmt_hits.loc[lpmt_hits['event'] == event_id]\n",
    "spmt_event_hits = spmt_hits.loc[spmt_hits['event'] == event_id]"
   ]
  },
  {
   "cell_type": "code",
   "execution_count": 13,
   "metadata": {},
   "outputs": [],
   "source": [
    "lpmt_hits_values = lpmt_event_hits['pmtID'].values\n",
    "spmt_hits_values = spmt_event_hits['pmtID'].values"
   ]
  },
  {
   "cell_type": "code",
   "execution_count": 14,
   "metadata": {},
   "outputs": [],
   "source": [
    "spmt_n_hits.rename(index = str, columns = {\"event_id\": \"event\"}, inplace = True)\n",
    "lpmt_n_hits.rename(index = str, columns = {\"event_id\": \"event\"}, inplace = True)"
   ]
  },
  {
   "cell_type": "code",
   "execution_count": 15,
   "metadata": {},
   "outputs": [],
   "source": [
    "info.rename(index = str, columns = {\"evtID\": \"event\"}, inplace = True)"
   ]
  },
  {
   "cell_type": "code",
   "execution_count": 16,
   "metadata": {},
   "outputs": [
    {
     "data": {
      "text/html": [
       "<div>\n",
       "<style scoped>\n",
       "    .dataframe tbody tr th:only-of-type {\n",
       "        vertical-align: middle;\n",
       "    }\n",
       "\n",
       "    .dataframe tbody tr th {\n",
       "        vertical-align: top;\n",
       "    }\n",
       "\n",
       "    .dataframe thead th {\n",
       "        text-align: right;\n",
       "    }\n",
       "</style>\n",
       "<table border=\"1\" class=\"dataframe\">\n",
       "  <thead>\n",
       "    <tr style=\"text-align: right;\">\n",
       "      <th></th>\n",
       "      <th>event</th>\n",
       "      <th>nHits</th>\n",
       "    </tr>\n",
       "  </thead>\n",
       "  <tbody>\n",
       "    <tr>\n",
       "      <th>0</th>\n",
       "      <td>0</td>\n",
       "      <td>212</td>\n",
       "    </tr>\n",
       "    <tr>\n",
       "      <th>1</th>\n",
       "      <td>1</td>\n",
       "      <td>191</td>\n",
       "    </tr>\n",
       "    <tr>\n",
       "      <th>2</th>\n",
       "      <td>3</td>\n",
       "      <td>162</td>\n",
       "    </tr>\n",
       "    <tr>\n",
       "      <th>3</th>\n",
       "      <td>4</td>\n",
       "      <td>180</td>\n",
       "    </tr>\n",
       "    <tr>\n",
       "      <th>4</th>\n",
       "      <td>5</td>\n",
       "      <td>310</td>\n",
       "    </tr>\n",
       "  </tbody>\n",
       "</table>\n",
       "</div>"
      ],
      "text/plain": [
       "   event  nHits\n",
       "0      0    212\n",
       "1      1    191\n",
       "2      3    162\n",
       "3      4    180\n",
       "4      5    310"
      ]
     },
     "execution_count": 16,
     "metadata": {},
     "output_type": "execute_result"
    }
   ],
   "source": [
    "spmt_n_hits.head()"
   ]
  },
  {
   "cell_type": "code",
   "execution_count": 17,
   "metadata": {},
   "outputs": [
    {
     "name": "stdout",
     "output_type": "stream",
     "text": [
      "CPU times: user 24.5 ms, sys: 6.23 ms, total: 30.7 ms\n",
      "Wall time: 49.2 ms\n"
     ]
    }
   ],
   "source": [
    "%%time\n",
    "spmt_pos.rename(index = str, columns = {\"pmt_id\": \"pmtID\"}, inplace = True)\n",
    "lpmt_pos.rename(index = str, columns = {\"pmt_id\": \"pmtID\"}, inplace = True)"
   ]
  },
  {
   "cell_type": "code",
   "execution_count": 18,
   "metadata": {},
   "outputs": [
    {
     "name": "stdout",
     "output_type": "stream",
     "text": [
      "CPU times: user 459 ms, sys: 89.7 ms, total: 549 ms\n",
      "Wall time: 591 ms\n"
     ]
    }
   ],
   "source": [
    "%%time\n",
    "lpmt_hits['isDN'] = lpmt_hits.isDN.apply(lambda x: 0 if x == False else 1)\n",
    "spmt_hits['isDN'] = spmt_hits.isDN.apply(lambda x: 0 if x == False else 1)"
   ]
  },
  {
   "cell_type": "code",
   "execution_count": 28,
   "metadata": {
    "collapsed": true
   },
   "outputs": [],
   "source": [
    "#lpmt_hits.drop(columns = 'is_DN', inplace = True)\n",
    "#spmt_hits.drop(columns = 'is_DN', inplace = True)"
   ]
  },
  {
   "cell_type": "code",
   "execution_count": 23,
   "metadata": {},
   "outputs": [
    {
     "data": {
      "text/html": [
       "<div>\n",
       "<style scoped>\n",
       "    .dataframe tbody tr th:only-of-type {\n",
       "        vertical-align: middle;\n",
       "    }\n",
       "\n",
       "    .dataframe tbody tr th {\n",
       "        vertical-align: top;\n",
       "    }\n",
       "\n",
       "    .dataframe thead th {\n",
       "        text-align: right;\n",
       "    }\n",
       "</style>\n",
       "<table border=\"1\" class=\"dataframe\">\n",
       "  <thead>\n",
       "    <tr style=\"text-align: right;\">\n",
       "      <th></th>\n",
       "      <th>Unnamed: 0</th>\n",
       "      <th>event</th>\n",
       "      <th>hitTime</th>\n",
       "      <th>isDN</th>\n",
       "      <th>pmtID</th>\n",
       "    </tr>\n",
       "  </thead>\n",
       "  <tbody>\n",
       "    <tr>\n",
       "      <th>0</th>\n",
       "      <td>0</td>\n",
       "      <td>0</td>\n",
       "      <td>238.278090</td>\n",
       "      <td>0</td>\n",
       "      <td>311819</td>\n",
       "    </tr>\n",
       "    <tr>\n",
       "      <th>1</th>\n",
       "      <td>1</td>\n",
       "      <td>0</td>\n",
       "      <td>103.316055</td>\n",
       "      <td>0</td>\n",
       "      <td>307244</td>\n",
       "    </tr>\n",
       "    <tr>\n",
       "      <th>2</th>\n",
       "      <td>2</td>\n",
       "      <td>0</td>\n",
       "      <td>108.034225</td>\n",
       "      <td>0</td>\n",
       "      <td>323230</td>\n",
       "    </tr>\n",
       "    <tr>\n",
       "      <th>3</th>\n",
       "      <td>3</td>\n",
       "      <td>0</td>\n",
       "      <td>36.505154</td>\n",
       "      <td>0</td>\n",
       "      <td>320568</td>\n",
       "    </tr>\n",
       "    <tr>\n",
       "      <th>4</th>\n",
       "      <td>4</td>\n",
       "      <td>0</td>\n",
       "      <td>34.109840</td>\n",
       "      <td>0</td>\n",
       "      <td>316487</td>\n",
       "    </tr>\n",
       "  </tbody>\n",
       "</table>\n",
       "</div>"
      ],
      "text/plain": [
       "   Unnamed: 0  event     hitTime  isDN   pmtID\n",
       "0           0      0  238.278090     0  311819\n",
       "1           1      0  103.316055     0  307244\n",
       "2           2      0  108.034225     0  323230\n",
       "3           3      0   36.505154     0  320568\n",
       "4           4      0   34.109840     0  316487"
      ]
     },
     "execution_count": 23,
     "metadata": {},
     "output_type": "execute_result"
    }
   ],
   "source": [
    "spmt_hits.head()"
   ]
  },
  {
   "cell_type": "code",
   "execution_count": 24,
   "metadata": {},
   "outputs": [
    {
     "data": {
      "text/html": [
       "<div>\n",
       "<style scoped>\n",
       "    .dataframe tbody tr th:only-of-type {\n",
       "        vertical-align: middle;\n",
       "    }\n",
       "\n",
       "    .dataframe tbody tr th {\n",
       "        vertical-align: top;\n",
       "    }\n",
       "\n",
       "    .dataframe thead th {\n",
       "        text-align: right;\n",
       "    }\n",
       "</style>\n",
       "<table border=\"1\" class=\"dataframe\">\n",
       "  <thead>\n",
       "    <tr style=\"text-align: right;\">\n",
       "      <th></th>\n",
       "      <th>pmtID</th>\n",
       "      <th>pmt_x</th>\n",
       "      <th>pmt_y</th>\n",
       "      <th>pmt_z</th>\n",
       "    </tr>\n",
       "  </thead>\n",
       "  <tbody>\n",
       "    <tr>\n",
       "      <th>0</th>\n",
       "      <td>0</td>\n",
       "      <td>1.049021e+03</td>\n",
       "      <td>0.0000</td>\n",
       "      <td>19171.32</td>\n",
       "    </tr>\n",
       "    <tr>\n",
       "      <th>1</th>\n",
       "      <td>1</td>\n",
       "      <td>9.084785e+02</td>\n",
       "      <td>524.5103</td>\n",
       "      <td>19171.32</td>\n",
       "    </tr>\n",
       "    <tr>\n",
       "      <th>2</th>\n",
       "      <td>2</td>\n",
       "      <td>5.245103e+02</td>\n",
       "      <td>908.4785</td>\n",
       "      <td>19171.32</td>\n",
       "    </tr>\n",
       "    <tr>\n",
       "      <th>3</th>\n",
       "      <td>3</td>\n",
       "      <td>6.423399e-14</td>\n",
       "      <td>1049.0206</td>\n",
       "      <td>19171.32</td>\n",
       "    </tr>\n",
       "    <tr>\n",
       "      <th>4</th>\n",
       "      <td>4</td>\n",
       "      <td>-5.245103e+02</td>\n",
       "      <td>908.4785</td>\n",
       "      <td>19171.32</td>\n",
       "    </tr>\n",
       "  </tbody>\n",
       "</table>\n",
       "</div>"
      ],
      "text/plain": [
       "   pmtID         pmt_x      pmt_y     pmt_z\n",
       "0      0  1.049021e+03     0.0000  19171.32\n",
       "1      1  9.084785e+02   524.5103  19171.32\n",
       "2      2  5.245103e+02   908.4785  19171.32\n",
       "3      3  6.423399e-14  1049.0206  19171.32\n",
       "4      4 -5.245103e+02   908.4785  19171.32"
      ]
     },
     "execution_count": 24,
     "metadata": {},
     "output_type": "execute_result"
    }
   ],
   "source": [
    "lpmt_pos.head()"
   ]
  },
  {
   "cell_type": "markdown",
   "metadata": {},
   "source": [
    "#### Делаю небольшой срез массива хитов, чтобы при мёрдже не завис"
   ]
  },
  {
   "cell_type": "code",
   "execution_count": 25,
   "metadata": {},
   "outputs": [
    {
     "name": "stdout",
     "output_type": "stream",
     "text": [
      "(652568, 5)\n",
      "(652568, 5)\n"
     ]
    }
   ],
   "source": [
    "lpmt_hits_small = lpmt_hits.loc[lpmt_hits['event'] <= 500]\n",
    "print(lpmt_hits.shape)\n",
    "print(lpmt_hits_small.shape)"
   ]
  },
  {
   "cell_type": "code",
   "execution_count": 26,
   "metadata": {},
   "outputs": [],
   "source": [
    "pmt = pd.merge(lpmt_hits_small,lpmt_n_hits, how = 'inner', on = 'event')"
   ]
  },
  {
   "cell_type": "code",
   "execution_count": 27,
   "metadata": {},
   "outputs": [
    {
     "name": "stdout",
     "output_type": "stream",
     "text": [
      "   Unnamed: 0  event     hitTime  isDN  pmtID\n",
      "0           0      0  249.992610     0  14175\n",
      "1           1      0   40.010310     0  17319\n",
      "2           2      0  162.123200     0  16882\n",
      "3           3      0   51.875614     0  14951\n",
      "4           4      0   79.817500     0  10947\n",
      "   event  nHits\n",
      "0      0   8902\n",
      "1      1   7305\n",
      "2      3   6718\n",
      "3      4   5966\n",
      "4      5  12744\n"
     ]
    }
   ],
   "source": [
    "print(lpmt_hits_small.head())\n",
    "print(lpmt_n_hits.head())"
   ]
  },
  {
   "cell_type": "code",
   "execution_count": 28,
   "metadata": {},
   "outputs": [
    {
     "name": "stdout",
     "output_type": "stream",
     "text": [
      "   Unnamed: 0  event     hitTime  isDN  pmtID  nHits\n",
      "0           0      0  249.992610     0  14175   8902\n",
      "1           1      0   40.010310     0  17319   8902\n",
      "2           2      0  162.123200     0  16882   8902\n",
      "3           3      0   51.875614     0  14951   8902\n",
      "4           4      0   79.817500     0  10947   8902\n",
      "(652568, 6)\n"
     ]
    }
   ],
   "source": [
    "print(pmt.head())\n",
    "print(pmt.shape)"
   ]
  },
  {
   "cell_type": "code",
   "execution_count": 29,
   "metadata": {},
   "outputs": [],
   "source": [
    "lpmt = pd.merge(pmt, lpmt_pos, on = 'pmtID', how = 'inner')"
   ]
  },
  {
   "cell_type": "code",
   "execution_count": 30,
   "metadata": {},
   "outputs": [
    {
     "name": "stdout",
     "output_type": "stream",
     "text": [
      "   Unnamed: 0  event     hitTime  isDN  pmtID  nHits     pmt_x      pmt_y  \\\n",
      "0           0      0  249.992610     0  14175   8902 -5411.832  16838.455   \n",
      "1        4591      0   92.820420     0  14175   8902 -5411.832  16838.455   \n",
      "2        2122      5  225.598310     0  14175  12744 -5411.832  16838.455   \n",
      "3       12597      5  -99.477516     1  14175  12744 -5411.832  16838.455   \n",
      "4       10975     22  311.370030     0  14175  12466 -5411.832  16838.455   \n",
      "\n",
      "       pmt_z  \n",
      "0 -7471.1797  \n",
      "1 -7471.1797  \n",
      "2 -7471.1797  \n",
      "3 -7471.1797  \n",
      "4 -7471.1797  \n",
      "(652568, 9)\n"
     ]
    }
   ],
   "source": [
    "print(lpmt.head())\n",
    "print(lpmt.shape)"
   ]
  },
  {
   "cell_type": "code",
   "execution_count": null,
   "metadata": {
    "collapsed": true
   },
   "outputs": [],
   "source": [
    "# Не запускать, виснет!\n",
    "#pmt = pd.merge(lpmt_hits,lpmt_n_hits, how = 'inner', on = 'event')\n",
    "#lpmt = pd.merge(pmt, lpmt_pos, on = 'pmtID', how = 'inner')"
   ]
  },
  {
   "cell_type": "markdown",
   "metadata": {},
   "source": [
    "#### Рассмотрю данные в маленьких детекторах, потому что там их меньше"
   ]
  },
  {
   "cell_type": "code",
   "execution_count": 31,
   "metadata": {},
   "outputs": [
    {
     "name": "stdout",
     "output_type": "stream",
     "text": [
      "   Unnamed: 0  event     hitTime  isDN   pmtID  nHits\n",
      "0           0      0  238.278090     0  311819    212\n",
      "1           1      0  103.316055     0  307244    212\n",
      "2           2      0  108.034225     0  323230    212\n",
      "3           3      0   36.505154     0  320568    212\n",
      "4           4      0   34.109840     0  316487    212\n"
     ]
    }
   ],
   "source": [
    "spmt = pd.merge(spmt_hits,spmt_n_hits, how = 'inner', on = 'event')\n",
    "print(spmt.head())"
   ]
  },
  {
   "cell_type": "code",
   "execution_count": 32,
   "metadata": {
    "scrolled": true
   },
   "outputs": [
    {
     "name": "stdout",
     "output_type": "stream",
     "text": [
      "   Unnamed: 0  event    hitTime  isDN   pmtID  nHits      pmt_x      pmt_y  \\\n",
      "0           0      0  238.27809     0  311819    212  1320.0306 -17951.344   \n",
      "1          89     73  108.96276     0  311819    362  1320.0306 -17951.344   \n",
      "2         302    232   97.14043     0  311819    429  1320.0306 -17951.344   \n",
      "3          50    689  143.79268     0  311819    184  1320.0306 -17951.344   \n",
      "4           9    723  104.97377     0  311819    300  1320.0306 -17951.344   \n",
      "\n",
      "       pmt_z  \n",
      "0  6681.8247  \n",
      "1  6681.8247  \n",
      "2  6681.8247  \n",
      "3  6681.8247  \n",
      "4  6681.8247  \n",
      "(234388, 9)\n"
     ]
    }
   ],
   "source": [
    "spmtPos = pd.merge(spmt, spmt_pos, on = 'pmtID', how = 'inner')\n",
    "print(spmtPos.head())\n",
    "print(spmtPos.shape)"
   ]
  },
  {
   "cell_type": "code",
   "execution_count": 33,
   "metadata": {},
   "outputs": [
    {
     "name": "stdout",
     "output_type": "stream",
     "text": [
      "   event      isDN\n",
      "0      0  0.042453\n",
      "1      1  0.047120\n",
      "2      3  0.129630\n",
      "3      4  0.127778\n",
      "4      5  0.048387\n"
     ]
    }
   ],
   "source": [
    "spmtDN = spmt.groupby(by = 'event', as_index = False)['isDN'].mean()\n",
    "print(spmtDN.head())"
   ]
  },
  {
   "cell_type": "markdown",
   "metadata": {},
   "source": [
    "#### Plotting distribution mean amount of events by Dark Noise "
   ]
  },
  {
   "cell_type": "code",
   "execution_count": 34,
   "metadata": {},
   "outputs": [
    {
     "name": "stderr",
     "output_type": "stream",
     "text": [
      "/usr/local/lib/python3.7/site-packages/matplotlib/cbook/__init__.py:424: MatplotlibDeprecationWarning: \n",
      "Passing one of 'on', 'true', 'off', 'false' as a boolean is deprecated; use an actual boolean (True/False) instead.\n",
      "  warn_deprecated(\"2.2\", \"Passing one of 'on', 'true', 'off', 'false' as a \"\n"
     ]
    },
    {
     "data": {
      "image/png": "[encoded data removed]",
      "text/plain": [
       "<Figure size 1296x864 with 1 Axes>"
      ]
     },
     "metadata": {
      "needs_background": "light"
     },
     "output_type": "display_data"
    }
   ],
   "source": [
    "figSize = (18, 12)\n",
    "plt.figure(figsize = figSize)\n",
    "plt.grid('on')\n",
    "plt.hist(spmtDN['isDN'], bins = 200, color = 'r')\n",
    "plt.xlabel('DN')\n",
    "plt.ylabel('events')\n",
    "plt.title('Mean DN hits by event in spmt')\n",
    "plt.show()"
   ]
  },
  {
   "cell_type": "markdown",
   "metadata": {},
   "source": [
    "#### Распределение шума в хитах, регистрируемых на больших детекторах - срезка"
   ]
  },
  {
   "cell_type": "code",
   "execution_count": 35,
   "metadata": {},
   "outputs": [
    {
     "name": "stdout",
     "output_type": "stream",
     "text": [
      "   event      isDN\n",
      "0      0  0.082453\n",
      "1      1  0.105544\n",
      "2      3  0.102263\n",
      "3      4  0.117332\n",
      "4      5  0.056890\n"
     ]
    }
   ],
   "source": [
    "lpmtDN = lpmt.groupby(by = 'event', as_index = False)['isDN'].mean()\n",
    "print(lpmtDN.head())"
   ]
  },
  {
   "cell_type": "code",
   "execution_count": 36,
   "metadata": {},
   "outputs": [
    {
     "data": {
      "image/png": "[encoded data removed]",
      "text/plain": [
       "<Figure size 1296x864 with 1 Axes>"
      ]
     },
     "metadata": {
      "needs_background": "light"
     },
     "output_type": "display_data"
    }
   ],
   "source": [
    "figSize = (18, 12)\n",
    "plt.figure(figsize = figSize)\n",
    "plt.grid('on')\n",
    "plt.hist(lpmtDN['isDN'], bins = 100, color = 'y')\n",
    "plt.xlabel('DN')\n",
    "plt.ylabel('events')\n",
    "plt.title('Mean DN hits by event in cut of lpmt')\n",
    "plt.show()"
   ]
  },
  {
   "cell_type": "markdown",
   "metadata": {},
   "source": [
    "#### Распределение шума по маленьким ФЭУ"
   ]
  },
  {
   "cell_type": "code",
   "execution_count": 37,
   "metadata": {},
   "outputs": [
    {
     "name": "stdout",
     "output_type": "stream",
     "text": [
      "    pmtID  isDN\n",
      "0  300000   0.0\n",
      "1  300001   0.0\n",
      "2  300002   0.0\n",
      "3  300003   0.0\n",
      "4  300004   0.0\n"
     ]
    }
   ],
   "source": [
    "spmtPMT = spmt.groupby(by = 'pmtID', as_index = False)['isDN'].mean()\n",
    "print(spmtPMT.head())"
   ]
  },
  {
   "cell_type": "code",
   "execution_count": 38,
   "metadata": {},
   "outputs": [
    {
     "data": {
      "image/png": "[encoded data removed]",
      "text/plain": [
       "<Figure size 1296x864 with 1 Axes>"
      ]
     },
     "metadata": {
      "needs_background": "light"
     },
     "output_type": "display_data"
    }
   ],
   "source": [
    "figSize = (18, 12)\n",
    "plt.figure(figsize = figSize)\n",
    "plt.grid('on')\n",
    "plt.hist(spmtPMT['isDN'], bins = 150, color = 'r')\n",
    "plt.xlabel('DN')\n",
    "plt.ylabel('pmtID')\n",
    "plt.title('Mean pmtID hits by pmtID in spmt')\n",
    "plt.show()"
   ]
  },
  {
   "cell_type": "code",
   "execution_count": 39,
   "metadata": {},
   "outputs": [],
   "source": [
    "spmtDN['is_DN'] = spmtDN.isDN.apply(lambda x: round(x, 2))\n",
    "spmtPMT['is_DN'] = spmtPMT.isDN.apply(lambda x: round(x, 2))"
   ]
  },
  {
   "cell_type": "code",
   "execution_count": 40,
   "metadata": {},
   "outputs": [
    {
     "data": {
      "text/plain": [
       "(array([ 0,  1,  2,  3,  4,  5,  6,  7,  8,  9, 10, 11, 12, 13, 14, 15, 16,\n",
       "        17, 18, 19, 20, 21, 22, 23, 24, 25, 26, 27, 28, 29, 30, 31, 32, 33,\n",
       "        34]), <a list of 35 Text xticklabel objects>)"
      ]
     },
     "execution_count": 40,
     "metadata": {},
     "output_type": "execute_result"
    },
    {
     "data": {
      "image/png": "[encoded data removed]",
      "text/plain": [
       "<Figure size 1296x864 with 1 Axes>"
      ]
     },
     "metadata": {
      "needs_background": "light"
     },
     "output_type": "display_data"
    }
   ],
   "source": [
    "plt.figure(figsize = figSize)\n",
    "sns.barplot(x = \"is_DN\", y = \"event\", data = spmtDN.groupby('is_DN', as_index = False)['event'].count())\n",
    "plt.xticks(rotation = 'vertical')\n",
    "#plt.xticks(x, labels, rotation='vertical')"
   ]
  },
  {
   "cell_type": "code",
   "execution_count": 41,
   "metadata": {},
   "outputs": [
    {
     "data": {
      "text/plain": [
       "(array([ 0,  1,  2,  3,  4,  5,  6,  7,  8,  9, 10, 11, 12, 13, 14, 15, 16,\n",
       "        17, 18, 19, 20, 21, 22, 23, 24, 25, 26, 27, 28, 29, 30, 31, 32, 33,\n",
       "        34, 35, 36, 37]), <a list of 38 Text xticklabel objects>)"
      ]
     },
     "execution_count": 41,
     "metadata": {},
     "output_type": "execute_result"
    },
    {
     "data": {
      "image/png": "[encoded data removed]",
      "text/plain": [
       "<Figure size 1296x864 with 1 Axes>"
      ]
     },
     "metadata": {
      "needs_background": "light"
     },
     "output_type": "display_data"
    }
   ],
   "source": [
    "plt.figure(figsize = figSize)\n",
    "sns.barplot(x = \"is_DN\", y = \"pmtID\", data = spmtPMT.groupby('is_DN', as_index = False)['pmtID'].count())\n",
    "plt.xticks(rotation = 'vertical')\n",
    "#plt.xticks(x, labels, rotation='vertical')"
   ]
  },
  {
   "cell_type": "code",
   "execution_count": null,
   "metadata": {
    "collapsed": true
   },
   "outputs": [],
   "source": []
  },
  {
   "cell_type": "code",
   "execution_count": null,
   "metadata": {
    "collapsed": true
   },
   "outputs": [],
   "source": []
  }
 ],
 "metadata": {
  "kernelspec": {
   "display_name": "Python 3",
   "language": "python",
   "name": "python3"
  },
  "language_info": {
   "codemirror_mode": {
    "name": "ipython",
    "version": 3
   },
   "file_extension": ".py",
   "mimetype": "text/x-python",
   "name": "python",
   "nbconvert_exporter": "python",
   "pygments_lexer": "ipython3",
   "version": "3.7.1"
  }
 },
 "nbformat": 4,
 "nbformat_minor": 2
}
